{
 "cells": [
  {
   "cell_type": "markdown",
   "id": "96978f78",
   "metadata": {},
   "source": [
    "\n",
    "# Data Science with ML & AI\n",
    "\n",
    "## Day 2: Python (Loops and Conditional Statements)\n",
    "\n",
    "### Assignment 2 – Solutions\n"
   ]
  },
  {
   "cell_type": "markdown",
   "id": "5dc2028f",
   "metadata": {},
   "source": [
    "\n",
    "### 1. How do `if-elif-else` statements work in Python?\n",
    "- Python checks conditions from top to bottom.\n",
    "- It executes the first block where the condition is `True` and skips the rest.\n",
    "\n",
    "**Example:**\n"
   ]
  },
  {
   "cell_type": "code",
   "execution_count": null,
   "id": "f1111f34",
   "metadata": {},
   "outputs": [],
   "source": [
    "\n",
    "def check_number(n):\n",
    "    if n > 0:\n",
    "        return \"Positive\"\n",
    "    elif n < 0:\n",
    "        return \"Negative\"\n",
    "    else:\n",
    "        return \"Zero\"\n",
    "\n",
    "print(check_number(10))\n",
    "print(check_number(-5))\n",
    "print(check_number(0))\n"
   ]
  },
  {
   "cell_type": "markdown",
   "id": "893aca01",
   "metadata": {},
   "source": [
    "\n",
    "### 2. Difference between `for` and `while` loops:\n",
    "- `for` loop: Iterates over a sequence (known range or iterable).\n",
    "- `while` loop: Runs as long as a condition is `True`.\n",
    "\n",
    "**Coding Challenge: Print prime numbers between 1 and 100**\n"
   ]
  },
  {
   "cell_type": "code",
   "execution_count": null,
   "id": "d919ef49",
   "metadata": {},
   "outputs": [],
   "source": [
    "\n",
    "for num in range(2, 101):\n",
    "    is_prime = True\n",
    "    for i in range(2, int(num**0.5)+1):\n",
    "        if num % i == 0:\n",
    "            is_prime = False\n",
    "            break\n",
    "    if is_prime:\n",
    "        print(num, end=' ')\n"
   ]
  },
  {
   "cell_type": "markdown",
   "id": "a3cc6292",
   "metadata": {},
   "source": [
    "\n",
    "### 3. Nested `if` statements and how to avoid deep nesting:\n",
    "- Used for multi-level conditions.\n",
    "- Avoid using too many levels with `elif` or logical operators.\n",
    "\n",
    "**Coding Challenge: Largest of three numbers**\n"
   ]
  },
  {
   "cell_type": "code",
   "execution_count": null,
   "id": "d97e4d94",
   "metadata": {},
   "outputs": [],
   "source": [
    "\n",
    "def largest(a, b, c):\n",
    "    if a >= b:\n",
    "        if a >= c:\n",
    "            return a\n",
    "        else:\n",
    "            return c\n",
    "    else:\n",
    "        if b >= c:\n",
    "            return b\n",
    "        else:\n",
    "            return c\n",
    "\n",
    "print(largest(10, 20, 15))\n"
   ]
  },
  {
   "cell_type": "markdown",
   "id": "9291317f",
   "metadata": {},
   "source": [
    "\n",
    "### 4. Risks of using `break` in loops:\n",
    "- Can cause premature exit, skipping other logic.\n",
    "- Alternative: use condition flags or design logic clearly.\n",
    "\n",
    "**Coding Challenge: Sum of positive numbers until a negative input**\n"
   ]
  },
  {
   "cell_type": "code",
   "execution_count": null,
   "id": "3e82a248",
   "metadata": {},
   "outputs": [],
   "source": [
    "\n",
    "total = 0\n",
    "while True:\n",
    "    num = int(input(\"Enter number (negative to stop): \"))\n",
    "    if num < 0:\n",
    "        break\n",
    "    total += num\n",
    "print(\"Sum:\", total)\n"
   ]
  },
  {
   "cell_type": "markdown",
   "id": "632029b5",
   "metadata": {},
   "source": [
    "\n",
    "### 5. `else` in loop vs conditional:\n",
    "- In loops: Runs if loop completes without `break`.\n",
    "- In conditionals: Used if no `if` or `elif` block is `True`.\n",
    "\n",
    "**Coding Challenge: Find index of an element using loop with `else`**\n"
   ]
  },
  {
   "cell_type": "code",
   "execution_count": null,
   "id": "ab6704f0",
   "metadata": {},
   "outputs": [],
   "source": [
    "\n",
    "def search_element(lst, target):\n",
    "    for i, val in enumerate(lst):\n",
    "        if val == target:\n",
    "            return i\n",
    "    else:\n",
    "        return -1\n",
    "\n",
    "print(search_element([1, 3, 5, 7], 5))\n",
    "print(search_element([1, 3, 5, 7], 2))\n"
   ]
  },
  {
   "cell_type": "markdown",
   "id": "7ed77f82",
   "metadata": {},
   "source": [
    "\n",
    "### 6. Pitfall with floating-point comparisons:\n",
    "- Floating-point numbers may not be exact due to precision issues.\n",
    "- Use a small tolerance.\n",
    "\n",
    "**Coding Challenge: Approximate float comparison**\n"
   ]
  },
  {
   "cell_type": "code",
   "execution_count": null,
   "id": "820f2350",
   "metadata": {},
   "outputs": [],
   "source": [
    "\n",
    "def approx_equal(a, b, tol=1e-9):\n",
    "    return abs(a - b) < tol\n",
    "\n",
    "print(approx_equal(0.1 + 0.2, 0.3))\n"
   ]
  },
  {
   "cell_type": "markdown",
   "id": "59c202f8",
   "metadata": {},
   "source": [
    "\n",
    "### 7. Combining `for` loop and `if` to filter data\n",
    "\n",
    "**Coding Challenge: Filter even numbers**\n"
   ]
  },
  {
   "cell_type": "code",
   "execution_count": null,
   "id": "0d7a594d",
   "metadata": {},
   "outputs": [],
   "source": [
    "\n",
    "lst = [1, 2, 3, 4, 5, 6, 7, 8]\n",
    "even = []\n",
    "for num in lst:\n",
    "    if num % 2 == 0:\n",
    "        even.append(num)\n",
    "print(even)\n"
   ]
  },
  {
   "cell_type": "markdown",
   "id": "2358257b",
   "metadata": {},
   "source": [
    "\n",
    "### 8. Short-circuit evaluation:\n",
    "- Stops evaluating further conditions if result is already known.\n",
    "- Saves computation time.\n",
    "\n",
    "**Coding Challenge: At least two `True` values**\n"
   ]
  },
  {
   "cell_type": "code",
   "execution_count": null,
   "id": "bf6cbbc9",
   "metadata": {},
   "outputs": [],
   "source": [
    "\n",
    "def at_least_two_true(a, b, c):\n",
    "    return (a and b) or (a and c) or (b and c)\n",
    "\n",
    "print(at_least_two_true(True, False, True))\n",
    "print(at_least_two_true(False, False, True))\n"
   ]
  },
  {
   "cell_type": "markdown",
   "id": "75b75e20",
   "metadata": {},
   "source": [
    "\n",
    "### 9. `continue` in loops:\n",
    "- Skips the current iteration and continues the next.\n",
    "\n",
    "**Coding Challenge: Print numbers divisible by 3**\n"
   ]
  },
  {
   "cell_type": "code",
   "execution_count": null,
   "id": "82d6f1e5",
   "metadata": {},
   "outputs": [],
   "source": [
    "\n",
    "nums = [10, 15, 18, 21, 25, 30]\n",
    "for num in nums:\n",
    "    if num % 3 != 0:\n",
    "        continue\n",
    "    print(num)\n"
   ]
  },
  {
   "cell_type": "markdown",
   "id": "587507f1",
   "metadata": {},
   "source": [
    "\n",
    "### 10. List comprehensions with conditions\n",
    "\n",
    "**Coding Challenge: Squares of even numbers from 1 to 20**\n"
   ]
  },
  {
   "cell_type": "code",
   "execution_count": null,
   "id": "336bf936",
   "metadata": {},
   "outputs": [],
   "source": [
    "\n",
    "squares = [x**2 for x in range(1, 21) if x % 2 == 0]\n",
    "print(squares)\n"
   ]
  }
 ],
 "metadata": {},
 "nbformat": 4,
 "nbformat_minor": 5
}
