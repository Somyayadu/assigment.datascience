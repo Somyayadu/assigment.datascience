{
 "cells": [
  {
   "cell_type": "markdown",
   "id": "491f1640",
   "metadata": {},
   "source": [
    "\n",
    "# Data Science with ML & AI\n",
    "\n",
    "## Day 3: Python (List Comprehensions)\n",
    "\n",
    "### Assignment 3 – Solutions\n"
   ]
  },
  {
   "cell_type": "markdown",
   "id": "7ccf06ac",
   "metadata": {},
   "source": [
    "\n",
    "### 1. What are list comprehensions?\n",
    "- A concise way to create lists using a single line.\n",
    "- **Faster** and **more compact** than traditional `for` loops.\n",
    "\n",
    "**Coding Challenge: Convert for loop to list comprehension**\n"
   ]
  },
  {
   "cell_type": "code",
   "execution_count": null,
   "id": "b6977c0a",
   "metadata": {},
   "outputs": [],
   "source": [
    "\n",
    "squares = [i ** 2 for i in range(10)]\n",
    "print(squares)\n"
   ]
  },
  {
   "cell_type": "markdown",
   "id": "635c029f",
   "metadata": {},
   "source": [
    "\n",
    "### 2. Conditional statements in list comprehension\n",
    "\n",
    "**Coding Challenge: List of even numbers from 1 to 50**\n"
   ]
  },
  {
   "cell_type": "code",
   "execution_count": null,
   "id": "19c5d59a",
   "metadata": {},
   "outputs": [],
   "source": [
    "\n",
    "evens = [x for x in range(1, 51) if x % 2 == 0]\n",
    "print(evens)\n"
   ]
  },
  {
   "cell_type": "markdown",
   "id": "b58a97a1",
   "metadata": {},
   "source": [
    "\n",
    "### 3. Difference between `if` and `if-else` in list comprehensions\n",
    "\n",
    "**Coding Challenge: Replace negatives with 0**\n"
   ]
  },
  {
   "cell_type": "code",
   "execution_count": null,
   "id": "f6338526",
   "metadata": {},
   "outputs": [],
   "source": [
    "\n",
    "lst = [-5, 2, -3, 7, 0]\n",
    "new_lst = [x if x >= 0 else 0 for x in lst]\n",
    "print(new_lst)\n"
   ]
  },
  {
   "cell_type": "markdown",
   "id": "d5dfb107",
   "metadata": {},
   "source": [
    "\n",
    "### 4. Nested list comprehensions to flatten 2D list\n",
    "\n",
    "**Coding Challenge: Flatten matrix**\n"
   ]
  },
  {
   "cell_type": "code",
   "execution_count": null,
   "id": "8f3a0783",
   "metadata": {},
   "outputs": [],
   "source": [
    "\n",
    "matrix = [[1, 2, 3], [4, 5, 6], [7, 8, 9]]\n",
    "flattened = [item for row in matrix for item in row]\n",
    "print(flattened)\n"
   ]
  },
  {
   "cell_type": "markdown",
   "id": "09a133da",
   "metadata": {},
   "source": [
    "\n",
    "### 5. Limitations of list comprehensions\n",
    "- Hard to read if nested too deep or complex logic used.\n",
    "- Prefer traditional loops for readability.\n",
    "\n",
    "**Coding Challenge: Rewrite list comprehension using loop**\n"
   ]
  },
  {
   "cell_type": "code",
   "execution_count": null,
   "id": "2d1926c6",
   "metadata": {},
   "outputs": [],
   "source": [
    "\n",
    "result = []\n",
    "for x in range(1, 10):\n",
    "    for y in range(1, 10):\n",
    "        if x * y % 2 == 0:\n",
    "            result.append(x * y)\n",
    "print(result)\n"
   ]
  },
  {
   "cell_type": "markdown",
   "id": "9c44b9df",
   "metadata": {},
   "source": [
    "\n",
    "### 6. Using functions in list comprehensions\n",
    "\n",
    "**Coding Challenge: Apply `abs()` to each number**\n"
   ]
  },
  {
   "cell_type": "code",
   "execution_count": null,
   "id": "8f918f77",
   "metadata": {},
   "outputs": [],
   "source": [
    "\n",
    "nums = [-10, 5, -3, 7]\n",
    "abs_values = [abs(n) for n in nums]\n",
    "print(abs_values)\n"
   ]
  },
  {
   "cell_type": "markdown",
   "id": "c842d58b",
   "metadata": {},
   "source": [
    "\n",
    "### 7. Variable scope in list comprehensions\n",
    "\n",
    "**Coding Challenge: Variable scope demonstration**\n"
   ]
  },
  {
   "cell_type": "code",
   "execution_count": null,
   "id": "4f4f8864",
   "metadata": {},
   "outputs": [],
   "source": [
    "\n",
    "x = 5\n",
    "squares = [x**2 for x in range(3)]\n",
    "print(\"Outside x:\", x)  # Will still be 5 in Python 3 (no overwrite)\n",
    "print(\"List:\", squares)\n"
   ]
  },
  {
   "cell_type": "markdown",
   "id": "5f28fa45",
   "metadata": {},
   "source": [
    "\n",
    "### 8. List comprehensions vs Generator expressions\n",
    "- **List**: Stored in memory.\n",
    "- **Generator**: Lazy evaluation, memory efficient.\n",
    "\n",
    "**Coding Challenge: Convert to generator expression**\n"
   ]
  },
  {
   "cell_type": "code",
   "execution_count": null,
   "id": "c821d085",
   "metadata": {},
   "outputs": [],
   "source": [
    "\n",
    "multiples_of_three = (x for x in range(100) if x % 3 == 0)\n",
    "print(list(multiples_of_three))\n"
   ]
  },
  {
   "cell_type": "markdown",
   "id": "5e9242e1",
   "metadata": {},
   "source": [
    "\n",
    "### 9. Filtering and transforming in one step\n",
    "\n",
    "**Coding Challenge: Filter strings, square integers**\n"
   ]
  },
  {
   "cell_type": "code",
   "execution_count": null,
   "id": "e434220c",
   "metadata": {},
   "outputs": [],
   "source": [
    "\n",
    "mixed = [1, 'hello', 3, 'world', 5]\n",
    "squares = [x**2 for x in mixed if isinstance(x, int)]\n",
    "print(squares)\n"
   ]
  },
  {
   "cell_type": "markdown",
   "id": "9b519636",
   "metadata": {},
   "source": [
    "\n",
    "### 10. Dictionary and Set Comprehensions\n",
    "\n",
    "**Coding Challenge: Map characters to ASCII values**\n"
   ]
  },
  {
   "cell_type": "code",
   "execution_count": null,
   "id": "ebe26cb4",
   "metadata": {},
   "outputs": [],
   "source": [
    "\n",
    "s = \"hello\"\n",
    "ascii_map = {char: ord(char) for char in s}\n",
    "print(ascii_map)\n"
   ]
  }
 ],
 "metadata": {
  "language_info": {
   "name": "python"
  }
 },
 "nbformat": 4,
 "nbformat_minor": 5
}
