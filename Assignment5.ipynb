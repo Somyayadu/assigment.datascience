{
 "cells": [
  {
   "cell_type": "markdown",
   "id": "25348d18",
   "metadata": {},
   "source": [
    "\n",
    "#  Assignment 5 – Object-Oriented Programming (OOP) Concepts in Python\n",
    "\n",
    "This assignment covers the major pillars of OOP including classes, objects, inheritance, polymorphism, encapsulation, and more.\n"
   ]
  },
  {
   "cell_type": "markdown",
   "id": "e82569a5",
   "metadata": {},
   "source": [
    "\n",
    "### 1. Class vs Object\n",
    "**Theory:** A class is a blueprint for creating objects. An object is an instance of a class. The class defines attributes and behaviors (methods), while the object represents actual data.\n",
    "\n",
    "**Coding Challenge:** Create a `Book` class and instantiate it.\n"
   ]
  },
  {
   "cell_type": "code",
   "execution_count": 11,
   "id": "0475b39b",
   "metadata": {},
   "outputs": [
    {
     "name": "stdout",
     "output_type": "stream",
     "text": [
      "Python Basics John Doe 2021\n"
     ]
    }
   ],
   "source": [
    "\n",
    "class Book:\n",
    "    def __init__(self, title, author, year_published):\n",
    "        self.title = title\n",
    "        self.author = author\n",
    "        self.year_published = year_published\n",
    "\n",
    "book1 = Book(\"Python Basics\", \"John Doe\", 2021)\n",
    "print(book1.title, book1.author, book1.year_published)\n"
   ]
  },
  {
   "cell_type": "markdown",
   "id": "c223c7ed",
   "metadata": {},
   "source": [
    "\n",
    "### 2. Inheritance\n",
    "**Theory:** Inheritance allows one class to inherit the attributes and methods of another. It promotes reusability but must be used carefully to avoid tight coupling.\n",
    "\n",
    "**Coding Challenge:** Implement `Vehicle`, `Car`, and `Bike` classes.\n"
   ]
  },
  {
   "cell_type": "code",
   "execution_count": 12,
   "id": "a467d214",
   "metadata": {},
   "outputs": [
    {
     "name": "stdout",
     "output_type": "stream",
     "text": [
      "Car is driving\n",
      "Bike is riding\n"
     ]
    }
   ],
   "source": [
    "\n",
    "class Vehicle:\n",
    "    def move(self):\n",
    "        print(\"Vehicle is moving\")\n",
    "\n",
    "class Car(Vehicle):\n",
    "    def move(self):\n",
    "        print(\"Car is driving\")\n",
    "\n",
    "class Bike(Vehicle):\n",
    "    def move(self):\n",
    "        print(\"Bike is riding\")\n",
    "\n",
    "c = Car()\n",
    "b = Bike()\n",
    "c.move()\n",
    "b.move()\n"
   ]
  },
  {
   "cell_type": "markdown",
   "id": "c86cc3bd",
   "metadata": {},
   "source": [
    "\n",
    "### 3. Polymorphism\n",
    "**Theory:** Polymorphism allows different classes to define the same method name with different behavior. Method overriding is used for this.\n",
    "\n",
    "**Coding Challenge:** Pass multiple objects to a single function and call their methods.\n"
   ]
  },
  {
   "cell_type": "code",
   "execution_count": 13,
   "id": "22da794d",
   "metadata": {},
   "outputs": [
    {
     "name": "stdout",
     "output_type": "stream",
     "text": [
      "Boat is sailing\n",
      "Airplane is flying\n"
     ]
    }
   ],
   "source": [
    "\n",
    "class Boat:\n",
    "    def move(self):\n",
    "        print(\"Boat is sailing\")\n",
    "\n",
    "class Airplane:\n",
    "    def move(self):\n",
    "        print(\"Airplane is flying\")\n",
    "\n",
    "def move_vehicle(vehicle):\n",
    "    vehicle.move()\n",
    "\n",
    "move_vehicle(Boat())\n",
    "move_vehicle(Airplane())\n"
   ]
  },
  {
   "cell_type": "markdown",
   "id": "b3ced5ee",
   "metadata": {},
   "source": [
    "\n",
    "### 4. Class Methods vs Static Methods vs Instance Methods\n",
    "**Theory:** \n",
    "- Instance methods use `self` and access object-level data.\n",
    "- Class methods use `cls` and access class-level data.\n",
    "- Static methods don’t access class or object data.\n",
    "\n",
    "**Coding Challenge:** `Calculator` class with all three.\n"
   ]
  },
  {
   "cell_type": "code",
   "execution_count": 14,
   "id": "1da7e9ad",
   "metadata": {},
   "outputs": [
    {
     "name": "stdout",
     "output_type": "stream",
     "text": [
      "12\n",
      "30\n"
     ]
    }
   ],
   "source": [
    "\n",
    "class Calculator:\n",
    "    @staticmethod\n",
    "    def multiply(a, b):\n",
    "        return a * b\n",
    "\n",
    "    @classmethod\n",
    "    def from_values(cls, values):\n",
    "        return cls.multiply(values[0], values[1])\n",
    "\n",
    "print(Calculator.multiply(3, 4))\n",
    "print(Calculator.from_values([5, 6]))\n"
   ]
  },
  {
   "cell_type": "markdown",
   "id": "dcbfe01d",
   "metadata": {},
   "source": [
    "\n",
    "### 5. Encapsulation\n",
    "**Theory:** Encapsulation hides the internal state of an object. Python uses `_` (protected) and `__` (private) prefixes to indicate this.\n",
    "\n",
    "**Coding Challenge:** Implement encapsulation in a `Person` class.\n"
   ]
  },
  {
   "cell_type": "code",
   "execution_count": 15,
   "id": "feff7120",
   "metadata": {},
   "outputs": [
    {
     "name": "stdout",
     "output_type": "stream",
     "text": [
      "Ritesh 20\n"
     ]
    }
   ],
   "source": [
    "\n",
    "class Person:\n",
    "    def __init__(self, name, age):\n",
    "        self.__name = name\n",
    "        self.__age = age\n",
    "\n",
    "    def set_name(self, name):\n",
    "        self.__name = name\n",
    "\n",
    "    def get_name(self):\n",
    "        return self.__name\n",
    "\n",
    "    def set_age(self, age):\n",
    "        self.__age = age\n",
    "\n",
    "    def get_age(self):\n",
    "        return self.__age\n",
    "\n",
    "p = Person(\"Ritesh\", 20)\n",
    "print(p.get_name(), p.get_age())\n"
   ]
  },
  {
   "cell_type": "markdown",
   "id": "e4d22817",
   "metadata": {},
   "source": [
    "\n",
    "### 6. The `__init__` Method\n",
    "**Theory:** `__init__` is a constructor method in Python that initializes new objects.\n",
    "\n",
    "**Coding Challenge:** Create a `Product` class.\n"
   ]
  },
  {
   "cell_type": "code",
   "execution_count": 16,
   "id": "2c2459bc",
   "metadata": {},
   "outputs": [
    {
     "name": "stdout",
     "output_type": "stream",
     "text": [
      "Laptop 45000\n"
     ]
    }
   ],
   "source": [
    "\n",
    "class Product:\n",
    "    def __init__(self, name, price):\n",
    "        self.name = name\n",
    "        self.price = price\n",
    "\n",
    "p1 = Product(\"Laptop\", 45000)\n",
    "print(p1.name, p1.price)\n"
   ]
  },
  {
   "cell_type": "markdown",
   "id": "e4eb1284",
   "metadata": {},
   "source": [
    "\n",
    "### 7. Multiple Inheritance and MRO\n",
    "**Theory:** Python resolves method calls in multiple inheritance using MRO (Method Resolution Order), which can be seen using `Class.__mro__` or `mro()`.\n",
    "\n",
    "**Coding Challenge:** Create `SmartFridge` using `super()` and show MRO.\n"
   ]
  },
  {
   "cell_type": "code",
   "execution_count": 17,
   "id": "02dba238",
   "metadata": {},
   "outputs": [
    {
     "name": "stdout",
     "output_type": "stream",
     "text": [
      "SmartFridge override:\n",
      "Appliance operating\n",
      "(<class '__main__.SmartFridge'>, <class '__main__.Appliance'>, <class '__main__.Electronic'>, <class 'object'>)\n"
     ]
    }
   ],
   "source": [
    "\n",
    "class Appliance:\n",
    "    def operate(self):\n",
    "        print(\"Appliance operating\")\n",
    "\n",
    "class Electronic:\n",
    "    def operate(self):\n",
    "        print(\"Electronic operating\")\n",
    "\n",
    "class SmartFridge(Appliance, Electronic):\n",
    "    def operate(self):\n",
    "        print(\"SmartFridge override:\")\n",
    "        super().operate()\n",
    "\n",
    "f = SmartFridge()\n",
    "f.operate()\n",
    "print(SmartFridge.__mro__)\n"
   ]
  },
  {
   "cell_type": "markdown",
   "id": "0c52161a",
   "metadata": {},
   "source": [
    "\n",
    "### 8. Special Methods (Magic Methods)\n",
    "**Theory:** Magic methods like `__str__`, `__eq__`, `__lt__` allow class instances to behave like built-ins.\n",
    "\n",
    "**Coding Challenge:** Implement comparison methods in `Book`.\n"
   ]
  },
  {
   "cell_type": "code",
   "execution_count": 18,
   "id": "a49c161a",
   "metadata": {},
   "outputs": [
    {
     "name": "stdout",
     "output_type": "stream",
     "text": [
      "False\n",
      "True\n"
     ]
    }
   ],
   "source": [
    "\n",
    "class Book:\n",
    "    def __init__(self, title, year_published):\n",
    "        self.title = title\n",
    "        self.year_published = year_published\n",
    "\n",
    "    def __eq__(self, other):\n",
    "        return self.year_published == other.year_published\n",
    "\n",
    "    def __lt__(self, other):\n",
    "        return self.year_published < other.year_published\n",
    "\n",
    "b1 = Book(\"Book A\", 2020)\n",
    "b2 = Book(\"Book B\", 2022)\n",
    "print(b1 == b2)\n",
    "print(b1 < b2)\n"
   ]
  },
  {
   "cell_type": "markdown",
   "id": "8ab4a303",
   "metadata": {},
   "source": [
    "\n",
    "### 9. Composition vs Inheritance\n",
    "**Theory:** Composition means using other classes by creating objects of them as attributes. Use when a \"has-a\" relationship is better than \"is-a\".\n",
    "\n",
    "**Coding Challenge:** Use `Engine` inside `Truck`.\n"
   ]
  },
  {
   "cell_type": "code",
   "execution_count": 19,
   "id": "47cde0b3",
   "metadata": {},
   "outputs": [
    {
     "name": "stdout",
     "output_type": "stream",
     "text": [
      "Engine started\n"
     ]
    }
   ],
   "source": [
    "\n",
    "class Engine:\n",
    "    def start(self):\n",
    "        print(\"Engine started\")\n",
    "\n",
    "class Truck:\n",
    "    def __init__(self):\n",
    "        self.engine = Engine()\n",
    "\n",
    "    def start_truck(self):\n",
    "        self.engine.start()\n",
    "\n",
    "t = Truck()\n",
    "t.start_truck()\n"
   ]
  },
  {
   "cell_type": "markdown",
   "id": "10934c44",
   "metadata": {},
   "source": [
    "\n",
    "### 10. Property Decorators\n",
    "**Theory:** `@property` creates getter methods that allow controlled access to private/protected attributes.\n",
    "\n",
    "**Coding Challenge:** Create a `Circle` class with diameter and area as properties.\n"
   ]
  },
  {
   "cell_type": "code",
   "execution_count": 20,
   "id": "0c2d195f",
   "metadata": {},
   "outputs": [
    {
     "name": "stdout",
     "output_type": "stream",
     "text": [
      "Diameter: 10\n",
      "Area: 78.53981633974483\n"
     ]
    }
   ],
   "source": [
    "\n",
    "import math\n",
    "\n",
    "class Circle:\n",
    "    def __init__(self, radius):\n",
    "        self._radius = radius\n",
    "\n",
    "    @property\n",
    "    def diameter(self):\n",
    "        return self._radius * 2\n",
    "\n",
    "    @property\n",
    "    def area(self):\n",
    "        return math.pi * self._radius ** 2\n",
    "\n",
    "c = Circle(5)\n",
    "print(\"Diameter:\", c.diameter)\n",
    "print(\"Area:\", c.area)\n"
   ]
  }
 ],
 "metadata": {
  "kernelspec": {
   "display_name": "Python 3",
   "language": "python",
   "name": "python3"
  },
  "language_info": {
   "codemirror_mode": {
    "name": "ipython",
    "version": 3
   },
   "file_extension": ".py",
   "mimetype": "text/x-python",
   "name": "python",
   "nbconvert_exporter": "python",
   "pygments_lexer": "ipython3",
   "version": "3.13.1"
  }
 },
 "nbformat": 4,
 "nbformat_minor": 5
}
