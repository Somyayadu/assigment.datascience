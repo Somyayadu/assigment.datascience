{
 "cells": [
  {
   "cell_type": "markdown",
   "id": "edd3004d",
   "metadata": {},
   "source": [
    "\n",
    "# 📘 Assignment 4 – Python Functions\n",
    "\n",
    "## Topics Covered:\n",
    "- User-Defined Functions\n",
    "- Generators\n",
    "- Lambda Functions\n"
   ]
  },
  {
   "cell_type": "markdown",
   "id": "f912c9e6",
   "metadata": {},
   "source": [
    "\n",
    "### 1. Default vs Required Arguments\n",
    "**Q:** What are default arguments in Python functions, and how do they differ from required arguments? What happens when you pass `None` as a value to a parameter with a default argument?\n"
   ]
  },
  {
   "cell_type": "code",
   "execution_count": null,
   "id": "e31b7209",
   "metadata": {},
   "outputs": [],
   "source": [
    "\n",
    "def greet(name, greeting=\"Hello\"):\n",
    "    if greeting is None:\n",
    "        greeting = \"Hello\"\n",
    "    return f\"{greeting}, {name}!\"\n",
    "\n",
    "print(greet(\"Ritesh\"))\n",
    "print(greet(\"Divya\", \"Good Morning\"))\n",
    "print(greet(\"Alok\", None))\n"
   ]
  },
  {
   "cell_type": "markdown",
   "id": "6ddc0e53",
   "metadata": {},
   "source": [
    "\n",
    "### 2. Variable-Length Arguments (`*args`, `**kwargs`)\n",
    "**Q:** How do `*args` and `**kwargs` work in Python? How can they be used together?\n"
   ]
  },
  {
   "cell_type": "code",
   "execution_count": null,
   "id": "c6517add",
   "metadata": {},
   "outputs": [],
   "source": [
    "\n",
    "def summarize(*args, **kwargs):\n",
    "    total = sum(args)\n",
    "    if kwargs.get(\"square\"):\n",
    "        total = total ** 2\n",
    "    if kwargs.get(\"negate\"):\n",
    "        total = -total\n",
    "    return total\n",
    "\n",
    "print(summarize(1, 2, 3))\n",
    "print(summarize(1, 2, 3, square=True))\n",
    "print(summarize(1, 2, 3, negate=True))\n"
   ]
  },
  {
   "cell_type": "markdown",
   "id": "95c9bf82",
   "metadata": {},
   "source": [
    "\n",
    "### 3. Pass-by-Value vs Pass-by-Reference\n",
    "**Q:** How does Python handle argument passing in functions?\n"
   ]
  },
  {
   "cell_type": "code",
   "execution_count": null,
   "id": "459eed8f",
   "metadata": {},
   "outputs": [],
   "source": [
    "\n",
    "def modify_list(lst):\n",
    "    lst.append(\"new item\")\n",
    "\n",
    "my_list = [1, 2, 3]\n",
    "modify_list(my_list)\n",
    "print(my_list)  # List is modified outside too\n"
   ]
  },
  {
   "cell_type": "markdown",
   "id": "9cca6183",
   "metadata": {},
   "source": [
    "\n",
    "### 4. Decorators\n",
    "**Q:** What is a decorator? Write a timing decorator.\n"
   ]
  },
  {
   "cell_type": "code",
   "execution_count": null,
   "id": "224a99df",
   "metadata": {},
   "outputs": [],
   "source": [
    "\n",
    "import time\n",
    "\n",
    "def timing(func):\n",
    "    def wrapper(*args, **kwargs):\n",
    "        start = time.time()\n",
    "        result = func(*args, **kwargs)\n",
    "        end = time.time()\n",
    "        print(f\"Time taken: {end - start:.4f} seconds\")\n",
    "        return result\n",
    "    return wrapper\n",
    "\n",
    "@timing\n",
    "def example():\n",
    "    time.sleep(1)\n",
    "    return \"Finished\"\n",
    "\n",
    "example()\n"
   ]
  },
  {
   "cell_type": "markdown",
   "id": "cd2ad45d",
   "metadata": {},
   "source": [
    "\n",
    "### 5. Generators\n",
    "**Q:** Write a generator function `countdown(n)`.\n"
   ]
  },
  {
   "cell_type": "code",
   "execution_count": null,
   "id": "325d7534",
   "metadata": {},
   "outputs": [],
   "source": [
    "\n",
    "def countdown(n):\n",
    "    while n > 0:\n",
    "        yield n\n",
    "        n -= 1\n",
    "\n",
    "for number in countdown(5):\n",
    "    print(number)\n"
   ]
  },
  {
   "cell_type": "markdown",
   "id": "16119e21",
   "metadata": {},
   "source": [
    "\n",
    "### 6. Yield vs Return\n",
    "**Q:** Difference between `yield` and `return`. Write a Fibonacci generator.\n"
   ]
  },
  {
   "cell_type": "code",
   "execution_count": null,
   "id": "c948e57f",
   "metadata": {},
   "outputs": [],
   "source": [
    "\n",
    "def fibonacci():\n",
    "    a, b = 0, 1\n",
    "    while True:\n",
    "        yield a\n",
    "        a, b = b, a + b\n",
    "\n",
    "gen = fibonacci()\n",
    "for _ in range(10):\n",
    "    print(next(gen))\n"
   ]
  },
  {
   "cell_type": "markdown",
   "id": "e8e424aa",
   "metadata": {},
   "source": [
    "\n",
    "### 7. Generators for Large Files\n",
    "**Q:** Write a generator to read lines from a file.\n"
   ]
  },
  {
   "cell_type": "code",
   "execution_count": null,
   "id": "3155aede",
   "metadata": {},
   "outputs": [],
   "source": [
    "\n",
    "def file_reader(file_name):\n",
    "    with open(file_name, 'r') as file:\n",
    "        for line in file:\n",
    "            yield line.strip()\n",
    "\n",
    "# Example use:\n",
    "# for line in file_reader(\"large_file.txt\"):\n",
    "#     print(line)\n"
   ]
  },
  {
   "cell_type": "markdown",
   "id": "9c673bca",
   "metadata": {},
   "source": [
    "\n",
    "### 8. Generator Expressions\n",
    "**Q:** Convert list comprehension to generator expression.\n"
   ]
  },
  {
   "cell_type": "code",
   "execution_count": null,
   "id": "518853c5",
   "metadata": {},
   "outputs": [],
   "source": [
    "\n",
    "# List comprehension:\n",
    "# squares = [x ** 2 for x in range(1000000)]\n",
    "\n",
    "# Generator expression:\n",
    "squares = (x ** 2 for x in range(1000000))\n",
    "print(next(squares), next(squares))\n"
   ]
  },
  {
   "cell_type": "markdown",
   "id": "f6b47d4e",
   "metadata": {},
   "source": [
    "\n",
    "### 9. Lambda Functions\n",
    "**Q:** Write a lambda for multiplying two lists element-wise.\n"
   ]
  },
  {
   "cell_type": "code",
   "execution_count": null,
   "id": "4b894c70",
   "metadata": {},
   "outputs": [],
   "source": [
    "\n",
    "multiply = lambda x, y: x * y\n",
    "\n",
    "list1 = [1, 2, 3]\n",
    "list2 = [4, 5, 6]\n",
    "\n",
    "result = [multiply(a, b) for a, b in zip(list1, list2)]\n",
    "print(result)\n"
   ]
  },
  {
   "cell_type": "markdown",
   "id": "33b19db5",
   "metadata": {},
   "source": [
    "\n",
    "### 10. Lambda with map(), filter(), reduce()\n",
    "**Q:** Use lambda with built-in functions.\n"
   ]
  },
  {
   "cell_type": "code",
   "execution_count": null,
   "id": "8b9b503a",
   "metadata": {},
   "outputs": [],
   "source": [
    "\n",
    "from functools import reduce\n",
    "\n",
    "# map example\n",
    "strings = [\"python\", \"java\", \"c++\"]\n",
    "uppercase = list(map(lambda x: x.upper(), strings))\n",
    "print(\"Map:\", uppercase)\n",
    "\n",
    "# filter example\n",
    "nums = [1, 2, 3, 4, 5, 6]\n",
    "evens = list(filter(lambda x: x % 2 == 0, nums))\n",
    "print(\"Filter:\", evens)\n",
    "\n",
    "# reduce example\n",
    "product = reduce(lambda x, y: x * y, nums)\n",
    "print(\"Reduce:\", product)\n"
   ]
  }
 ],
 "metadata": {
  "kernelspec": {
   "display_name": "Python 3",
   "language": "python",
   "name": "python3"
  },
  "language_info": {
   "name": "python",
   "version": "3.13.1"
  }
 },
 "nbformat": 4,
 "nbformat_minor": 5
}
