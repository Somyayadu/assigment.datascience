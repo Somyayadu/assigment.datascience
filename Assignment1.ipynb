{
 "cells": [
  {
   "cell_type": "markdown",
   "id": "39853b7d",
   "metadata": {},
   "source": [
    "Assignment 1"
   ]
  },
  {
   "cell_type": "markdown",
   "id": "fe2c046c",
   "metadata": {},
   "source": [
    "\n",
    "### 1. How do lists and tuples differ in terms of mutability and performance?\n",
    "- **Mutability**:  \n",
    "  - List: Mutable  \n",
    "  - Tuple: Immutable  \n",
    "- **Performance**: Tuples are faster due to immutability.\n",
    "- **Use Case**:\n",
    "  - Lists: When data changes\n",
    "  - Tuples: When data remains constant\n"
   ]
  },
  {
   "cell_type": "markdown",
   "id": "0dc0c0ea",
   "metadata": {},
   "source": [
    "\n",
    "### 2. Type Conversion in Python\n",
    "- **Implicit Conversion**:\n"
   ]
  },
  {
   "cell_type": "code",
   "execution_count": 1,
   "id": "66de0d17",
   "metadata": {},
   "outputs": [
    {
     "name": "stdout",
     "output_type": "stream",
     "text": [
      "7.0\n"
     ]
    }
   ],
   "source": [
    "\n",
    "a = 5\n",
    "b = 2.0\n",
    "c = a + b\n",
    "print(c)  # Output: 7.0\n"
   ]
  },
  {
   "cell_type": "markdown",
   "id": "ff6cf647",
   "metadata": {},
   "source": [
    "\n",
    "- **Explicit Conversion**:\n"
   ]
  },
  {
   "cell_type": "code",
   "execution_count": 2,
   "id": "b2da7ef4",
   "metadata": {},
   "outputs": [
    {
     "name": "stdout",
     "output_type": "stream",
     "text": [
      "123\n"
     ]
    }
   ],
   "source": [
    "\n",
    "s = \"123\"\n",
    "num = int(s)\n",
    "print(num)  # Output: 123\n"
   ]
  },
  {
   "cell_type": "markdown",
   "id": "0c03599e",
   "metadata": {},
   "source": [
    "\n",
    "### 3. Differences between List, Set, and Dictionary\n",
    "\n",
    "| Feature     | List            | Set             | Dictionary             |\n",
    "|-------------|------------------|------------------|-------------------------|\n",
    "| Ordered     | Yes              | No               | Yes (Python 3.7+)       |\n",
    "| Duplicates  | Allowed          | Not Allowed      | Keys: Unique            |\n",
    "| Indexed     | Yes              | No               | Key-based access        |\n"
   ]
  },
  {
   "cell_type": "markdown",
   "id": "743ca1a0",
   "metadata": {},
   "source": [
    "\n",
    "### 4. `__repr__` vs `__str__`\n"
   ]
  },
  {
   "cell_type": "code",
   "execution_count": 3,
   "id": "c3d94748",
   "metadata": {},
   "outputs": [
    {
     "name": "stdout",
     "output_type": "stream",
     "text": [
      "Student Info\n",
      "Student(name='Ritesh')\n"
     ]
    }
   ],
   "source": [
    "\n",
    "class Student:\n",
    "    def __str__(self):\n",
    "        return \"Student Info\"\n",
    "    def __repr__(self):\n",
    "        return \"Student(name='Ritesh')\"\n",
    "\n",
    "s = Student()\n",
    "print(str(s))\n",
    "print(repr(s))\n"
   ]
  },
  {
   "cell_type": "markdown",
   "id": "9d962b20",
   "metadata": {},
   "source": [
    "\n",
    "### 5. Large Integer Handling in Python\n"
   ]
  },
  {
   "cell_type": "code",
   "execution_count": 4,
   "id": "7090bf3f",
   "metadata": {},
   "outputs": [
    {
     "name": "stdout",
     "output_type": "stream",
     "text": [
      "10000000000000000000000000000000000000000000000000000000000000000000000000000000000000000000000000000\n"
     ]
    }
   ],
   "source": [
    "\n",
    "a = 10**100\n",
    "print(a)\n"
   ]
  },
  {
   "cell_type": "markdown",
   "id": "5acfd39f",
   "metadata": {},
   "source": [
    "\n",
    "### 6. `+=` vs `+` Operators\n"
   ]
  },
  {
   "cell_type": "code",
   "execution_count": 5,
   "id": "db5cc890",
   "metadata": {},
   "outputs": [
    {
     "name": "stdout",
     "output_type": "stream",
     "text": [
      "Hello World Hello\n",
      "[1, 2, 3] [1, 2, 3]\n"
     ]
    }
   ],
   "source": [
    "\n",
    "# Immutable Example\n",
    "a = \"Hello\"\n",
    "b = a\n",
    "a += \" World\"\n",
    "print(a, b)  # \"Hello World\", \"Hello\"\n",
    "\n",
    "# Mutable Example\n",
    "lst1 = [1, 2]\n",
    "lst2 = lst1\n",
    "lst1 += [3]\n",
    "print(lst1, lst2)  # Both [1, 2, 3]\n"
   ]
  },
  {
   "cell_type": "markdown",
   "id": "b4af3e87",
   "metadata": {},
   "source": [
    "\n",
    "### 7. `in` Operator Usage\n"
   ]
  },
  {
   "cell_type": "code",
   "execution_count": 6,
   "id": "d4294838",
   "metadata": {},
   "outputs": [
    {
     "name": "stdout",
     "output_type": "stream",
     "text": [
      "True\n",
      "True\n",
      "True\n"
     ]
    }
   ],
   "source": [
    "\n",
    "print('a' in 'apple')  # True\n",
    "print(3 in [1, 2, 3])  # True\n",
    "d = {'a': 1, 'b': 2}\n",
    "print('a' in d)        # True\n"
   ]
  },
  {
   "cell_type": "markdown",
   "id": "35ca102e",
   "metadata": {},
   "source": [
    "\n",
    "### 8. Bitwise Operators\n"
   ]
  },
  {
   "cell_type": "code",
   "execution_count": 7,
   "id": "38900132",
   "metadata": {},
   "outputs": [
    {
     "name": "stdout",
     "output_type": "stream",
     "text": [
      "1\n",
      "7\n",
      "6\n",
      "-6\n",
      "10\n",
      "2\n"
     ]
    }
   ],
   "source": [
    "\n",
    "a = 5  # 101\n",
    "b = 3  # 011\n",
    "print(a & b)  # 1\n",
    "print(a | b)  # 7\n",
    "print(a ^ b)  # 6\n",
    "print(~a)     # -6\n",
    "print(a << 1) # 10\n",
    "print(a >> 1) # 2\n"
   ]
  },
  {
   "cell_type": "markdown",
   "id": "3a4e73d9",
   "metadata": {},
   "source": [
    "\n",
    "### 9. Augmented Assignment Operators\n"
   ]
  },
  {
   "cell_type": "code",
   "execution_count": 8,
   "id": "b111a358",
   "metadata": {},
   "outputs": [
    {
     "name": "stdout",
     "output_type": "stream",
     "text": [
      "24\n"
     ]
    }
   ],
   "source": [
    "\n",
    "a = 5\n",
    "a += 3\n",
    "a -= 2\n",
    "a *= 4\n",
    "print(a)\n"
   ]
  },
  {
   "cell_type": "markdown",
   "id": "c1d788c6",
   "metadata": {},
   "source": [
    "\n",
    "### 10. `is` vs `==`\n"
   ]
  },
  {
   "cell_type": "code",
   "execution_count": 9,
   "id": "f7142185",
   "metadata": {},
   "outputs": [
    {
     "name": "stdout",
     "output_type": "stream",
     "text": [
      "True\n",
      "False\n",
      "True\n"
     ]
    }
   ],
   "source": [
    "\n",
    "a = [1, 2, 3]\n",
    "b = [1, 2, 3]\n",
    "print(a == b)  # True\n",
    "print(a is b)  # False\n",
    "\n",
    "x = \"hello\"\n",
    "y = \"hello\"\n",
    "print(x is y)  # True\n"
   ]
  }
 ],
 "metadata": {
  "kernelspec": {
   "display_name": "Python 3",
   "language": "python",
   "name": "python3"
  },
  "language_info": {
   "codemirror_mode": {
    "name": "ipython",
    "version": 3
   },
   "file_extension": ".py",
   "mimetype": "text/x-python",
   "name": "python",
   "nbconvert_exporter": "python",
   "pygments_lexer": "ipython3",
   "version": "3.13.1"
  }
 },
 "nbformat": 4,
 "nbformat_minor": 5
}
